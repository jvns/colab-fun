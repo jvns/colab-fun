{
  "nbformat": 4,
  "nbformat_minor": 0,
  "metadata": {
    "kernelspec": {
      "display_name": "python-notes",
      "language": "python",
      "name": "python-notes"
    },
    "language_info": {
      "codemirror_mode": {
        "name": "ipython",
        "version": 3
      },
      "file_extension": ".py",
      "mimetype": "text/x-python",
      "name": "python",
      "nbconvert_exporter": "python",
      "pygments_lexer": "ipython3",
      "version": "3.7.0"
    },
    "colab": {
      "name": "gpt2.ipynb",
      "provenance": [],
      "include_colab_link": true
    },
    "accelerator": "GPU"
  },
  "cells": [
    {
      "cell_type": "markdown",
      "metadata": {
        "id": "view-in-github",
        "colab_type": "text"
      },
      "source": [
        "<a href=\"https://colab.research.google.com/github/jvns/colab-fun/blob/main/similar-words.ipynb\" target=\"_parent\"><img src=\"https://colab.research.google.com/assets/colab-badge.svg\" alt=\"Open In Colab\"/></a>"
      ]
    },
    {
      "cell_type": "markdown",
      "metadata": {
        "id": "Z9xm6FgFEICV"
      },
      "source": [
        "# embedding fun"
      ]
    },
    {
      "cell_type": "markdown",
      "metadata": {
        "id": "Ozq819nh8Tik"
      },
      "source": [
        "- This notebook runs on Google Colab.\n",
        "- Codes from [A Comprehensive Guide to Build Your Own Language Model in Python](https://medium.com/analytics-vidhya/a-comprehensive-guide-to-build-your-own-language-model-in-python-5141b3917d6d)\n",
        "- Use the OpenAI GPT-2 language model (based on Transformers) to:\n",
        "  - Generate text sequences based on seed texts\n",
        "  - Convert text sequences into numerical representations"
      ]
    },
    {
      "cell_type": "code",
      "metadata": {
        "id": "7TE3aQiE82dq",
        "colab": {
          "base_uri": "https://localhost:8080/"
        },
        "outputId": "1f94536f-9a8c-4c59-d489-9349f9916a77"
      },
      "source": [
        "!pip install transformers"
      ],
      "execution_count": 1,
      "outputs": [
        {
          "output_type": "stream",
          "name": "stdout",
          "text": [
            "Looking in indexes: https://pypi.org/simple, https://us-python.pkg.dev/colab-wheels/public/simple/\n",
            "Requirement already satisfied: transformers in /usr/local/lib/python3.9/dist-packages (4.27.4)\n",
            "Requirement already satisfied: huggingface-hub<1.0,>=0.11.0 in /usr/local/lib/python3.9/dist-packages (from transformers) (0.13.4)\n",
            "Requirement already satisfied: filelock in /usr/local/lib/python3.9/dist-packages (from transformers) (3.10.7)\n",
            "Requirement already satisfied: requests in /usr/local/lib/python3.9/dist-packages (from transformers) (2.27.1)\n",
            "Requirement already satisfied: pyyaml>=5.1 in /usr/local/lib/python3.9/dist-packages (from transformers) (6.0)\n",
            "Requirement already satisfied: regex!=2019.12.17 in /usr/local/lib/python3.9/dist-packages (from transformers) (2022.10.31)\n",
            "Requirement already satisfied: numpy>=1.17 in /usr/local/lib/python3.9/dist-packages (from transformers) (1.22.4)\n",
            "Requirement already satisfied: tokenizers!=0.11.3,<0.14,>=0.11.1 in /usr/local/lib/python3.9/dist-packages (from transformers) (0.13.3)\n",
            "Requirement already satisfied: packaging>=20.0 in /usr/local/lib/python3.9/dist-packages (from transformers) (23.0)\n",
            "Requirement already satisfied: tqdm>=4.27 in /usr/local/lib/python3.9/dist-packages (from transformers) (4.65.0)\n",
            "Requirement already satisfied: typing-extensions>=3.7.4.3 in /usr/local/lib/python3.9/dist-packages (from huggingface-hub<1.0,>=0.11.0->transformers) (4.5.0)\n",
            "Requirement already satisfied: certifi>=2017.4.17 in /usr/local/lib/python3.9/dist-packages (from requests->transformers) (2022.12.7)\n",
            "Requirement already satisfied: idna<4,>=2.5 in /usr/local/lib/python3.9/dist-packages (from requests->transformers) (3.4)\n",
            "Requirement already satisfied: urllib3<1.27,>=1.21.1 in /usr/local/lib/python3.9/dist-packages (from requests->transformers) (1.26.15)\n",
            "Requirement already satisfied: charset-normalizer~=2.0.0 in /usr/local/lib/python3.9/dist-packages (from requests->transformers) (2.0.12)\n"
          ]
        }
      ]
    },
    {
      "cell_type": "code",
      "metadata": {
        "id": "VrbLcMec8ibI",
        "colab": {
          "base_uri": "https://localhost:8080/"
        },
        "outputId": "3a9a9432-4fdb-4e41-86fb-e0d72ba866ef"
      },
      "source": [
        "# Import required libraries\n",
        "import torch\n",
        "from transformers import GPT2Tokenizer, GPT2LMHeadModel\n",
        "from torch.nn.functional import cosine_similarity\n",
        "\n",
        "\n",
        "# Load pre-trained model tokenizer (vocabulary)\n",
        "tokenizer = GPT2Tokenizer.from_pretrained('gpt2')\n",
        "\n",
        "# Encode a text inputs\n",
        "text = \"What is the fastest car in the\"\n",
        "indexed_tokens = tokenizer.encode(text)\n",
        "\n",
        "# Convert indexed tokens in a PyTorch tensor\n",
        "tokens_tensor = torch.tensor([indexed_tokens])\n",
        "\n",
        "# Load pre-trained model (weights)\n",
        "model = GPT2LMHeadModel.from_pretrained('gpt2')\n",
        "\n",
        "# Set the model in evaluation mode to deactivate the DropOut modules\n",
        "model.eval()\n",
        "\n",
        "# If you have a GPU, put everything on cuda\n",
        "tokens_tensor = tokens_tensor.to('cuda')\n",
        "model.to('cuda')\n",
        "\n",
        "# Predict all tokens\n",
        "with torch.no_grad():\n",
        "    outputs = model(tokens_tensor)\n",
        "    predictions = outputs[0]\n",
        "\n",
        "# Get the predicted next sub-word\n",
        "predicted_index = torch.argmax(predictions[0, -1, :]).item()\n",
        "predicted_text = tokenizer.decode(indexed_tokens + [predicted_index])\n",
        "\n",
        "# Print the predicted word\n",
        "print(predicted_text)"
      ],
      "execution_count": 2,
      "outputs": [
        {
          "output_type": "stream",
          "name": "stdout",
          "text": [
            "What is the fastest car in the world\n"
          ]
        }
      ]
    },
    {
      "cell_type": "code",
      "source": [
        "def most_similar_words(word):\n",
        "  tokens = tokenizer.encode(word)\n",
        "  assert len(tokens) == 1\n",
        "  token = tokens[0]\n",
        "  weight = model.transformer.wte.weight[token]\n",
        "  sims = cosine_similarity(weight, model.transformer.wte.weight, dim=1)\n",
        "  top_idx = torch.topk(sims, k=30)[1]\n",
        "  return [tokenizer.decode(x) for x in top_idx]"
      ],
      "metadata": {
        "id": "DdBq6MSs8s2o"
      },
      "execution_count": 22,
      "outputs": []
    },
    {
      "cell_type": "code",
      "source": [
        "most_similar_words(\"forest\")"
      ],
      "metadata": {
        "colab": {
          "base_uri": "https://localhost:8080/"
        },
        "id": "rVcuD5iZ9FIX",
        "outputId": "37b09c14-4007-4609-e2f8-15ab1093ccce"
      },
      "execution_count": 23,
      "outputs": [
        {
          "output_type": "execute_result",
          "data": {
            "text/plain": [
              "['forest',\n",
              " 'Forest',\n",
              " ' forest',\n",
              " ' forests',\n",
              " ' Forest',\n",
              " ' deforestation',\n",
              " 'forestation',\n",
              " ' forestry',\n",
              " ' Forestry',\n",
              " ' biodiversity',\n",
              " ' plantations',\n",
              " ' jungle',\n",
              " ' woodland',\n",
              " ' wetlands',\n",
              " ' externalToEVA',\n",
              " '\\x19',\n",
              " '\\x1e',\n",
              " '�',\n",
              " 'reportprint',\n",
              " '\\x11',\n",
              " '\\x14',\n",
              " '\\x13',\n",
              " '\\x15',\n",
              " ' サーティ',\n",
              " '�',\n",
              " '\\x03',\n",
              " '\\x7f',\n",
              " ' TheNitrome',\n",
              " '�',\n",
              " '�']"
            ]
          },
          "metadata": {},
          "execution_count": 23
        }
      ]
    },
    {
      "cell_type": "code",
      "source": [
        "most_similar_words(\"ban\")"
      ],
      "metadata": {
        "colab": {
          "base_uri": "https://localhost:8080/"
        },
        "id": "n3U0P_oB3Uyz",
        "outputId": "63cdfcb4-b58b-49ca-cbf3-aa5500ef995e"
      },
      "execution_count": 24,
      "outputs": [
        {
          "output_type": "execute_result",
          "data": {
            "text/plain": [
              "['ban',\n",
              " 'Ban',\n",
              " ' ban',\n",
              " ' Ban',\n",
              " ' banning',\n",
              " ' bans',\n",
              " ' Bans',\n",
              " ' banned',\n",
              " ' prohibitions',\n",
              " ' prohibition',\n",
              " ' prohibit',\n",
              " ' moratorium',\n",
              " ' banished',\n",
              " ' prohibiting',\n",
              " 'kan',\n",
              " 'ba',\n",
              " 'aban',\n",
              " ' prohibits',\n",
              " ' Banana',\n",
              " ' restrictions',\n",
              " ' barred',\n",
              " 'bon',\n",
              " ' barring',\n",
              " '246',\n",
              " '\\x1a',\n",
              " 'oreAndOnline',\n",
              " '\\x15',\n",
              " '\\x0c',\n",
              " '\\x11',\n",
              " '\\r']"
            ]
          },
          "metadata": {},
          "execution_count": 24
        }
      ]
    },
    {
      "cell_type": "code",
      "source": [
        "most_similar_words(\"pan\")"
      ],
      "metadata": {
        "colab": {
          "base_uri": "https://localhost:8080/"
        },
        "id": "NdxpRC0e4N7l",
        "outputId": "a9c2d131-70cf-4102-859f-ca04bbd6fee3"
      },
      "execution_count": 25,
      "outputs": [
        {
          "output_type": "execute_result",
          "data": {
            "text/plain": [
              "['pan',\n",
              " ' Pan',\n",
              " ' pan',\n",
              " 'Pan',\n",
              " 'panel',\n",
              " 'panic',\n",
              " 'pa',\n",
              " 'Panel',\n",
              " ' skillet',\n",
              " ' PAN',\n",
              " ' pans',\n",
              " ' pane',\n",
              " 'pect',\n",
              " ' Panel',\n",
              " 'p',\n",
              " 'ban',\n",
              " ' Span',\n",
              " 'pe',\n",
              " 'glass',\n",
              " 'par',\n",
              " 'pit',\n",
              " ' Panama',\n",
              " ' panel',\n",
              " 'scale',\n",
              " 'pas',\n",
              " 'py',\n",
              " 'span',\n",
              " ' perspect',\n",
              " 'pots',\n",
              " ' span']"
            ]
          },
          "metadata": {},
          "execution_count": 25
        }
      ]
    },
    {
      "cell_type": "code",
      "source": [
        "most_similar_words(\"cake\")"
      ],
      "metadata": {
        "colab": {
          "base_uri": "https://localhost:8080/"
        },
        "id": "serTKMLv3jsR",
        "outputId": "2ba7e161-5418-418d-d700-b4c7d635175f"
      },
      "execution_count": 26,
      "outputs": [
        {
          "output_type": "execute_result",
          "data": {
            "text/plain": [
              "['cake',\n",
              " 'cakes',\n",
              " ' Cake',\n",
              " ' cake',\n",
              " ' cakes',\n",
              " ' pastry',\n",
              " '\\x01',\n",
              " 'StreamerBot',\n",
              " '\\x1b',\n",
              " '�',\n",
              " '\\x0b',\n",
              " ' RandomRedditor',\n",
              " ' サーティ',\n",
              " '\\x07',\n",
              " '\\x17',\n",
              " '\\x15',\n",
              " '\\x1e',\n",
              " '�',\n",
              " '\\x05',\n",
              " '�',\n",
              " 'rawdownload',\n",
              " '�',\n",
              " '\\x0c',\n",
              " '�',\n",
              " '\\x0e',\n",
              " '\\x03',\n",
              " '\\x10',\n",
              " '\\x13',\n",
              " '\\x12',\n",
              " 'embedreportprint']"
            ]
          },
          "metadata": {},
          "execution_count": 26
        }
      ]
    },
    {
      "cell_type": "code",
      "source": [
        "most_similar_words(\"the\")"
      ],
      "metadata": {
        "id": "qrufCGuj_BTt",
        "outputId": "6c941c5f-a8d0-4058-de9e-4dcb9943e91b",
        "colab": {
          "base_uri": "https://localhost:8080/"
        }
      },
      "execution_count": 27,
      "outputs": [
        {
          "output_type": "execute_result",
          "data": {
            "text/plain": [
              "['the',\n",
              " 'The',\n",
              " 'that',\n",
              " 'there',\n",
              " ' the',\n",
              " 'this',\n",
              " ' THE',\n",
              " 'these',\n",
              " 'which',\n",
              " 'what',\n",
              " 'they',\n",
              " 'their',\n",
              " 'those',\n",
              " ' The',\n",
              " 'your',\n",
              " 'to',\n",
              " 'from',\n",
              " 'THE',\n",
              " 'when',\n",
              " 'you',\n",
              " 'and',\n",
              " 'a',\n",
              " ' an',\n",
              " 'with',\n",
              " 'for',\n",
              " 'another',\n",
              " 'It',\n",
              " 'In',\n",
              " 'This',\n",
              " 'There']"
            ]
          },
          "metadata": {},
          "execution_count": 27
        }
      ]
    },
    {
      "cell_type": "code",
      "source": [
        "most_similar_words(\"think\")"
      ],
      "metadata": {
        "id": "VdO-z0Gk_FPW",
        "outputId": "bc58d18f-bd77-498c-fa32-a566e75adf84",
        "colab": {
          "base_uri": "https://localhost:8080/"
        }
      },
      "execution_count": 28,
      "outputs": [
        {
          "output_type": "execute_result",
          "data": {
            "text/plain": [
              "['think',\n",
              " 'Think',\n",
              " ' Think',\n",
              " 'thinking',\n",
              " ' think',\n",
              " 'thought',\n",
              " ' thinkers',\n",
              " ' thinker',\n",
              " ' Thinking',\n",
              " ' thinks',\n",
              " ' thinking',\n",
              " 'remember',\n",
              " 'Imagine',\n",
              " ' imagine',\n",
              " 'sorry',\n",
              " 'consider',\n",
              " ' Thought',\n",
              " ' rethink',\n",
              " 'doing',\n",
              " 'Look',\n",
              " 'Consider',\n",
              " 'yeah',\n",
              " ' externalToEVA',\n",
              " '\\x07',\n",
              " 'perhaps',\n",
              " '�',\n",
              " '\\x04',\n",
              " '\\x17',\n",
              " '\\x19',\n",
              " '�']"
            ]
          },
          "metadata": {},
          "execution_count": 28
        }
      ]
    },
    {
      "cell_type": "code",
      "source": [
        "most_similar_words(\"boat\")"
      ],
      "metadata": {
        "id": "5ox4s4mh_liE",
        "outputId": "c4916856-ab8b-4319-eedd-f2663d93f887",
        "colab": {
          "base_uri": "https://localhost:8080/"
        }
      },
      "execution_count": 30,
      "outputs": [
        {
          "output_type": "execute_result",
          "data": {
            "text/plain": [
              "['boat',\n",
              " 'boats',\n",
              " ' boat',\n",
              " ' boats',\n",
              " ' Boat',\n",
              " ' yacht',\n",
              " ' vessel',\n",
              " ' submarine',\n",
              " ' sail',\n",
              " ' canoe',\n",
              " ' sailed',\n",
              " ' raft',\n",
              " ' vessels',\n",
              " ' submarines',\n",
              " ' afloat',\n",
              " ' ship',\n",
              " ' sailing',\n",
              " ' torpedo',\n",
              " 'wreck',\n",
              " ' ships',\n",
              " ' submar',\n",
              " ' ashore',\n",
              " ' kay',\n",
              " ' warships',\n",
              " 'fish',\n",
              " '\\x12',\n",
              " '\\x1b',\n",
              " '\\x1e',\n",
              " 'InstoreAndOnline',\n",
              " '�']"
            ]
          },
          "metadata": {},
          "execution_count": 30
        }
      ]
    },
    {
      "cell_type": "code",
      "source": [],
      "metadata": {
        "id": "TKPnRrdZ_pkw"
      },
      "execution_count": null,
      "outputs": []
    }
  ]
}